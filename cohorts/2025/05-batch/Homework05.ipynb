{
 "cells": [
  {
   "cell_type": "code",
   "execution_count": 1,
   "id": "64f50bd4-294c-46bb-ae1e-01e22e0c5bfe",
   "metadata": {},
   "outputs": [],
   "source": [
    "import sys\n",
    "sys.path.append('/usr/local/bin')  # Add PySpark's location\n",
    "\n",
    "import findspark  # Helps Jupyter find Spark\n",
    "findspark.init()\n",
    "\n",
    "import pyspark\n",
    "\n"
   ]
  },
  {
   "cell_type": "code",
   "execution_count": 2,
   "id": "8aafbbb4-b8aa-4b50-a3ff-ec91889f6e15",
   "metadata": {},
   "outputs": [
    {
     "data": {
      "text/plain": [
       "'/usr/local/opt/apache-spark/libexec/python/pyspark/__init__.py'"
      ]
     },
     "execution_count": 2,
     "metadata": {},
     "output_type": "execute_result"
    }
   ],
   "source": [
    "pyspark.__file__"
   ]
  },
  {
   "cell_type": "code",
   "execution_count": 3,
   "id": "255ab327-1d4f-4bac-810b-0a5ab050560e",
   "metadata": {},
   "outputs": [],
   "source": [
    "from pyspark.sql import SparkSession"
   ]
  },
  {
   "cell_type": "code",
   "execution_count": 22,
   "id": "9e333ed2-e3ae-47e3-8781-a4097129a2f4",
   "metadata": {},
   "outputs": [],
   "source": [
    "spark = SparkSession.builder \\\n",
    "        .master(\"local[*]\") \\\n",
    "        .appName(\"YellowTaxi2024\")\\\n",
    "        .getOrCreate()"
   ]
  },
  {
   "cell_type": "code",
   "execution_count": 10,
   "id": "846bda87-c988-437d-a09f-6bb5bb4ef75f",
   "metadata": {},
   "outputs": [
    {
     "name": "stdout",
     "output_type": "stream",
     "text": [
      "--2025-03-05 00:09:44--  https://d37ci6vzurychx.cloudfront.net/trip-data/yellow_tripdata_2024-10.parquet\n",
      "2600:9000:25a2:ce00:b:20a5:b140:21, 2600:9000:25a2:7a00:b:20a5:b140:21, 2600:9000:25a2:dc00:b:20a5:b140:21, ...\n",
      "Verbindungsaufbau zu d37ci6vzurychx.cloudfront.net (d37ci6vzurychx.cloudfront.net)|2600:9000:25a2:ce00:b:20a5:b140:21|:443 … verbunden.\n",
      "200 OKnforderung gesendet, auf Antwort wird gewartet … \n",
      "Länge: 64346071 (61M) [binary/octet-stream]\n",
      "Wird in »yellow_tripdata_2024-10.parquet« gespeichert.\n",
      "\n",
      "yellow_tripdata_202 100%[===================>]  61,36M  65,6MB/s    in 0,9s    \n",
      "\n",
      "2025-03-05 00:09:45 (65,6 MB/s) - »yellow_tripdata_2024-10.parquet« gespeichert [64346071/64346071]\n",
      "\n"
     ]
    }
   ],
   "source": [
    "!wget https://d37ci6vzurychx.cloudfront.net/trip-data/yellow_tripdata_2024-10.parquet"
   ]
  },
  {
   "cell_type": "code",
   "execution_count": 26,
   "id": "ef612be1-0632-410b-a875-5ea20b90cd41",
   "metadata": {},
   "outputs": [],
   "source": [
    "df = spark.read\\\n",
    "   .parquet(\"yellow_taxi\")"
   ]
  },
  {
   "cell_type": "code",
   "execution_count": 27,
   "id": "19eaeacd-533a-4f3d-9dd0-a55d4d268f3c",
   "metadata": {},
   "outputs": [
    {
     "name": "stdout",
     "output_type": "stream",
     "text": [
      "root\n",
      " |-- VendorID: integer (nullable = true)\n",
      " |-- tpep_pickup_datetime: timestamp_ntz (nullable = true)\n",
      " |-- tpep_dropoff_datetime: timestamp_ntz (nullable = true)\n",
      " |-- passenger_count: long (nullable = true)\n",
      " |-- trip_distance: double (nullable = true)\n",
      " |-- RatecodeID: long (nullable = true)\n",
      " |-- store_and_fwd_flag: string (nullable = true)\n",
      " |-- PULocationID: integer (nullable = true)\n",
      " |-- DOLocationID: integer (nullable = true)\n",
      " |-- payment_type: long (nullable = true)\n",
      " |-- fare_amount: double (nullable = true)\n",
      " |-- extra: double (nullable = true)\n",
      " |-- mta_tax: double (nullable = true)\n",
      " |-- tip_amount: double (nullable = true)\n",
      " |-- tolls_amount: double (nullable = true)\n",
      " |-- improvement_surcharge: double (nullable = true)\n",
      " |-- total_amount: double (nullable = true)\n",
      " |-- congestion_surcharge: double (nullable = true)\n",
      " |-- Airport_fee: double (nullable = true)\n",
      "\n",
      "+--------+--------------------+---------------------+---------------+-------------+----------+------------------+------------+------------+------------+-----------+-----+-------+----------+------------+---------------------+------------+--------------------+-----------+\n",
      "|VendorID|tpep_pickup_datetime|tpep_dropoff_datetime|passenger_count|trip_distance|RatecodeID|store_and_fwd_flag|PULocationID|DOLocationID|payment_type|fare_amount|extra|mta_tax|tip_amount|tolls_amount|improvement_surcharge|total_amount|congestion_surcharge|Airport_fee|\n",
      "+--------+--------------------+---------------------+---------------+-------------+----------+------------------+------------+------------+------------+-----------+-----+-------+----------+------------+---------------------+------------+--------------------+-----------+\n",
      "|       2| 2024-10-10 10:34:57|  2024-10-10 10:53:48|              1|          3.4|         1|                 N|         140|          74|           1|       20.5|  0.0|    0.5|      0.24|         0.0|                  1.0|       24.74|                 2.5|        0.0|\n",
      "|       2| 2024-10-08 21:14:57|  2024-10-08 21:47:02|              2|         5.22|         1|                 N|         166|         107|           1|       31.7|  1.0|    0.5|      7.34|         0.0|                  1.0|       44.04|                 2.5|        0.0|\n",
      "|       2| 2024-10-05 18:29:00|  2024-10-05 18:55:30|              1|         5.29|         1|                 N|          79|         255|           1|       28.9|  0.0|    0.5|       0.1|        6.94|                  1.0|       39.94|                 2.5|        0.0|\n",
      "|       2| 2024-10-04 19:13:00|  2024-10-04 19:35:18|              1|         5.42|         1|                 N|          48|         263|           1|       27.5|  2.5|    0.5|      3.74|         0.0|                  1.0|       37.74|                 2.5|        0.0|\n",
      "|       1| 2024-10-01 11:43:18|  2024-10-01 11:47:40|              1|          0.5|         1|                 N|         142|         239|           1|        5.8|  2.5|    0.5|      1.95|         0.0|                  1.0|       11.75|                 2.5|        0.0|\n",
      "+--------+--------------------+---------------------+---------------+-------------+----------+------------------+------------+------------+------------+-----------+-----+-------+----------+------------+---------------------+------------+--------------------+-----------+\n",
      "only showing top 5 rows\n",
      "\n"
     ]
    }
   ],
   "source": [
    "df.printSchema()\n",
    "df.show(5)"
   ]
  },
  {
   "cell_type": "markdown",
   "id": "0d23f424-23d9-42ea-965d-33acf34e1a58",
   "metadata": {},
   "source": [
    "## Question 1"
   ]
  },
  {
   "cell_type": "code",
   "execution_count": 14,
   "id": "b43fe7fe-26e6-4a57-a258-f0941dcd4ed8",
   "metadata": {},
   "outputs": [],
   "source": [
    "df_repartitioned = df.repartition(4)"
   ]
  },
  {
   "cell_type": "code",
   "execution_count": 17,
   "id": "03491583-ef91-47a0-9c0b-fe9d2640f522",
   "metadata": {},
   "outputs": [
    {
     "name": "stderr",
     "output_type": "stream",
     "text": [
      "                                                                                "
     ]
    }
   ],
   "source": [
    "df_repartitioned.write.mode(\"overwrite\").parquet(\".\")"
   ]
  },
  {
   "cell_type": "markdown",
   "id": "4c9632bc-6986-4242-bab6-5b92f3a8dcb9",
   "metadata": {},
   "source": [
    "## Question 2"
   ]
  },
  {
   "cell_type": "code",
   "execution_count": 28,
   "id": "5b031a7c-9571-4fc6-80fc-94d0a5462b15",
   "metadata": {},
   "outputs": [
    {
     "name": "stdout",
     "output_type": "stream",
     "text": [
      "Number of taxi trips on October 15th, 2024: 128893\n"
     ]
    }
   ],
   "source": [
    "from pyspark.sql.functions import to_date, col\n",
    "\n",
    "# Convert pickup datetime to date and filter for October 15, 2024\n",
    "df_oct_15 = df.filter(to_date(col(\"tpep_pickup_datetime\")) == \"2024-10-15\")\n",
    "\n",
    "# Count the number of trips\n",
    "trip_count = df_oct_15.count()\n",
    "\n",
    "print(f\"Number of taxi trips on October 15th, 2024: {trip_count}\")"
   ]
  },
  {
   "cell_type": "markdown",
   "id": "b1fc3805-51f7-4eda-b428-c27babf12231",
   "metadata": {},
   "source": [
    "## Question 3"
   ]
  },
  {
   "cell_type": "code",
   "execution_count": 49,
   "id": "0c1cefc4-9b54-4118-b5cd-f935a067f70e",
   "metadata": {},
   "outputs": [
    {
     "name": "stdout",
     "output_type": "stream",
     "text": [
      "The longest trip duration in the dataset is: 162.62 hours\n"
     ]
    }
   ],
   "source": [
    "from pyspark.sql.functions import unix_timestamp,max\n",
    "\n",
    "df_q3 = df.withColumn(\"trip_duration_hours\",\n",
    "                   (unix_timestamp(col(\"tpep_dropoff_datetime\")) - unix_timestamp(col(\"tpep_pickup_datetime\"))) / 3600)\n",
    "\n",
    "# Find the longest trip\n",
    "longest_trip = df_q3.agg(max(\"trip_duration_hours\")).collect()[0][0]\n",
    "\n",
    "print(f\"The longest trip duration in the dataset is: {longest_trip:.2f} hours\")"
   ]
  },
  {
   "cell_type": "code",
   "execution_count": 50,
   "id": "98746871-1561-488b-bb71-937a02b089a5",
   "metadata": {},
   "outputs": [],
   "source": [
    "spark.stop()"
   ]
  },
  {
   "cell_type": "code",
   "execution_count": 52,
   "id": "802be18b-e477-483f-82d9-f12e936607df",
   "metadata": {},
   "outputs": [
    {
     "name": "stdout",
     "output_type": "stream",
     "text": [
      "--2025-03-05 15:27:57--  https://d37ci6vzurychx.cloudfront.net/misc/taxi_zone_lookup.csv\n",
      "Auflösen des Hostnamens d37ci6vzurychx.cloudfront.net (d37ci6vzurychx.cloudfront.net)… 2600:9000:25a2:1400:b:20a5:b140:21, 2600:9000:25a2:6800:b:20a5:b140:21, 2600:9000:25a2:6400:b:20a5:b140:21, ...\n",
      "Verbindungsaufbau zu d37ci6vzurychx.cloudfront.net (d37ci6vzurychx.cloudfront.net)|2600:9000:25a2:1400:b:20a5:b140:21|:443 … verbunden.\n",
      "HTTP-Anforderung gesendet, auf Antwort wird gewartet … 200 OK\n",
      "Länge: 12331 (12K) [text/csv]\n",
      "taxi_zone_lookup.csv: No such file or directory\n",
      "\n",
      "Schreiben nach »taxi_zone_lookup.csv« nicht möglich (No such file or directory).\n"
     ]
    }
   ],
   "source": [
    "!wget https://d37ci6vzurychx.cloudfront.net/misc/taxi_zone_lookup.csv"
   ]
  },
  {
   "cell_type": "code",
   "execution_count": 53,
   "id": "c0de32b2-584e-4e54-a84f-3ef2ee4c6b68",
   "metadata": {},
   "outputs": [
    {
     "name": "stdout",
     "output_type": "stream",
     "text": [
      "root\n",
      " |-- VendorID: integer (nullable = true)\n",
      " |-- tpep_pickup_datetime: timestamp_ntz (nullable = true)\n",
      " |-- tpep_dropoff_datetime: timestamp_ntz (nullable = true)\n",
      " |-- passenger_count: long (nullable = true)\n",
      " |-- trip_distance: double (nullable = true)\n",
      " |-- RatecodeID: long (nullable = true)\n",
      " |-- store_and_fwd_flag: string (nullable = true)\n",
      " |-- PULocationID: integer (nullable = true)\n",
      " |-- DOLocationID: integer (nullable = true)\n",
      " |-- payment_type: long (nullable = true)\n",
      " |-- fare_amount: double (nullable = true)\n",
      " |-- extra: double (nullable = true)\n",
      " |-- mta_tax: double (nullable = true)\n",
      " |-- tip_amount: double (nullable = true)\n",
      " |-- tolls_amount: double (nullable = true)\n",
      " |-- improvement_surcharge: double (nullable = true)\n",
      " |-- total_amount: double (nullable = true)\n",
      " |-- congestion_surcharge: double (nullable = true)\n",
      " |-- Airport_fee: double (nullable = true)\n",
      "\n",
      "root\n",
      " |-- LocationID: string (nullable = true)\n",
      " |-- Borough: string (nullable = true)\n",
      " |-- Zone: string (nullable = true)\n",
      " |-- service_zone: string (nullable = true)\n",
      "\n"
     ]
    }
   ],
   "source": [
    "from pyspark.sql.functions import col, count, asc\n",
    "\n",
    "# Initialize Spark session\n",
    "spark = SparkSession.builder.appName(\"TaxiZoneAnalysis\").getOrCreate()\n",
    "\n",
    "# Load Yellow Taxi October 2024 data (Parquet)\n",
    "yellow_tripdata_path = \"yellow_taxi\"  # Replace with actual path\n",
    "df_trips = spark.read.parquet(yellow_tripdata_path)\n",
    "\n",
    "# Load Taxi Zone Lookup data (CSV)\n",
    "zone_lookup_path = \"taxi_zone_lookup.csv\"  # Replace with actual path\n",
    "df_zones = spark.read.option(\"header\", True).csv(zone_lookup_path)\n",
    "\n",
    "# Show schemas to verify\n",
    "df_trips.printSchema()\n",
    "df_zones.printSchema()"
   ]
  },
  {
   "cell_type": "code",
   "execution_count": 54,
   "id": "72f1b52d-78f2-4d45-84c3-809d6b120e2f",
   "metadata": {},
   "outputs": [],
   "source": [
    "df_trips.createOrReplaceTempView(\"yellow_trips\")\n",
    "df_zones.createOrReplaceTempView(\"zone_lookup\")"
   ]
  },
  {
   "cell_type": "code",
   "execution_count": 55,
   "id": "7b71ee82-403c-459a-a4fd-dd785a448cb3",
   "metadata": {},
   "outputs": [
    {
     "name": "stderr",
     "output_type": "stream",
     "text": [
      "[Stage 3:==========================================>              (12 + 4) / 16]"
     ]
    },
    {
     "name": "stdout",
     "output_type": "stream",
     "text": [
      "+--------------------+----------+\n",
      "|                Zone|trip_count|\n",
      "+--------------------+----------+\n",
      "|Governor's Island...|         1|\n",
      "+--------------------+----------+\n",
      "\n"
     ]
    },
    {
     "name": "stderr",
     "output_type": "stream",
     "text": [
      "                                                                                "
     ]
    }
   ],
   "source": [
    "query = \"\"\"\n",
    "SELECT z.Zone, COUNT(t.PULocationID) as trip_count\n",
    "FROM yellow_trips t\n",
    "JOIN zone_lookup z\n",
    "ON t.PULocationID = z.LocationID\n",
    "GROUP BY z.Zone\n",
    "ORDER BY trip_count ASC\n",
    "LIMIT 1\n",
    "\"\"\"\n",
    "\n",
    "least_frequent_zone = spark.sql(query)\n",
    "least_frequent_zone.show()"
   ]
  },
  {
   "cell_type": "code",
   "execution_count": null,
   "id": "5200e638-0d2e-4746-8a9d-cc9b4849b28d",
   "metadata": {},
   "outputs": [],
   "source": []
  }
 ],
 "metadata": {
  "kernelspec": {
   "display_name": "Python 3 (ipykernel)",
   "language": "python",
   "name": "python3"
  },
  "language_info": {
   "codemirror_mode": {
    "name": "ipython",
    "version": 3
   },
   "file_extension": ".py",
   "mimetype": "text/x-python",
   "name": "python",
   "nbconvert_exporter": "python",
   "pygments_lexer": "ipython3",
   "version": "3.12.5"
  }
 },
 "nbformat": 4,
 "nbformat_minor": 5
}
